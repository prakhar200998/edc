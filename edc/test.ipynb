{
 "cells": [
  {
   "cell_type": "code",
   "execution_count": 1,
   "metadata": {},
   "outputs": [],
   "source": [
    "%load_ext autoreload\n",
    "%autoreload 2\n",
    "import edc.utils.llm_utils as llm_utils\n",
    "from peft import PeftModel, PeftConfig\n",
    "from edc.utils.e5_mistral_utils import MistralForSequenceEmbedding\n",
    "from edc.extract import Extractor\n",
    "from edc.schema_definition import SchemaDefiner\n",
    "from edc.schema_canonicalization import SchemaCanonicalizer\n",
    "from edc.schema_retriever import SchemaRetriever\n",
    "from edc.edc_framework import EDC\n",
    "from edc.utils.e5_mistral_utils import MistralForSequenceEmbedding\n",
    "from transformers import AutoModelForCausalLM, AutoTokenizer\n",
    "import os\n",
    "os.environ[\"CUDA_DEVICE_ORDER\"]=\"PCI_BUS_ID\"\n",
    "os.environ[\"CUDA_VISIBLE_DEVICES\"]=\"\""
   ]
  },
  {
   "cell_type": "code",
   "execution_count": 3,
   "metadata": {},
   "outputs": [
    {
     "name": "stdout",
     "output_type": "stream",
     "text": [
      "/home/users/bowen/coding/edc\n"
     ]
    }
   ],
   "source": [
    "!pwd\n",
    "\n",
    "import sys\n",
    "\n",
    "sys.path.append(\"../\")"
   ]
  },
  {
   "cell_type": "code",
   "execution_count": 4,
   "metadata": {},
   "outputs": [],
   "source": [
    "extraction_llm_name = \"mistral7b\"\n",
    "schema_definition_llm_name = \"mistral7b\"\n",
    "schema_canonicalization_verifier_model_name = \"mistral7b\"\n",
    "\n",
    "edc_configuration = {'extractor_llm': extraction_llm_name, 'schema_definition_llm': schema_definition_llm_name, 'canonicalization_verifier_model': schema_canonicalization_verifier_model_name}"
   ]
  },
  {
   "cell_type": "code",
   "execution_count": 5,
   "metadata": {},
   "outputs": [
    {
     "name": "stdout",
     "output_type": "stream",
     "text": [
      "Models used: {'mistral7b'}\n",
      "Loading models...\n"
     ]
    },
    {
     "data": {
      "application/vnd.jupyter.widget-view+json": {
       "model_id": "20c59c01afc1455494ed1dad4483f0f2",
       "version_major": 2,
       "version_minor": 0
      },
      "text/plain": [
       "Loading checkpoint shards:   0%|          | 0/3 [00:00<?, ?it/s]"
      ]
     },
     "metadata": {},
     "output_type": "display_data"
    },
    {
     "data": {
      "application/vnd.jupyter.widget-view+json": {
       "model_id": "5e8aea15c26d4364a670a388c66e8d62",
       "version_major": 2,
       "version_minor": 0
      },
      "text/plain": [
       "Loading checkpoint shards:   0%|          | 0/2 [00:00<?, ?it/s]"
      ]
     },
     "metadata": {},
     "output_type": "display_data"
    },
    {
     "name": "stderr",
     "output_type": "stream",
     "text": [
      "You're using a LlamaTokenizerFast tokenizer. Please note that with a fast tokenizer, using the `__call__` method is faster than using a method to encode the text followed by a call to the `pad` method to get a padded encoding.\n"
     ]
    }
   ],
   "source": [
    "edc = EDC(edc_configuration)"
   ]
  },
  {
   "cell_type": "code",
   "execution_count": 6,
   "metadata": {},
   "outputs": [
    {
     "ename": "FileNotFoundError",
     "evalue": "[Errno 2] No such file or directory: './prompt_templates/few_shot_examples.txt'",
     "output_type": "error",
     "traceback": [
      "\u001b[0;31m---------------------------------------------------------------------------\u001b[0m",
      "\u001b[0;31mFileNotFoundError\u001b[0m                         Traceback (most recent call last)",
      "Cell \u001b[0;32mIn[6], line 1\u001b[0m\n\u001b[0;32m----> 1\u001b[0m \u001b[43medc\u001b[49m\u001b[38;5;241;43m.\u001b[39;49m\u001b[43mextract_kg\u001b[49m\u001b[43m(\u001b[49m\u001b[43m[\u001b[49m\u001b[38;5;124;43m'\u001b[39;49m\u001b[38;5;124;43mBowen is a student at National University of Singapore\u001b[39;49m\u001b[38;5;124;43m'\u001b[39;49m\u001b[43m]\u001b[49m\u001b[43m)\u001b[49m\n",
      "File \u001b[0;32m~/coding/edc/edc/edc.py:126\u001b[0m, in \u001b[0;36mEDC.extract_kg\u001b[0;34m(self, input_text_list)\u001b[0m\n\u001b[1;32m    125\u001b[0m \u001b[38;5;28;01mdef\u001b[39;00m \u001b[38;5;21mextract_kg\u001b[39m(\u001b[38;5;28mself\u001b[39m, input_text_list: List[\u001b[38;5;28mstr\u001b[39m]):\n\u001b[0;32m--> 126\u001b[0m     oie_few_shot_examples_str \u001b[38;5;241m=\u001b[39m \u001b[38;5;28;43mopen\u001b[39;49m\u001b[43m(\u001b[49m\u001b[38;5;124;43m\"\u001b[39;49m\u001b[38;5;124;43m./prompt_templates/few_shot_examples.txt\u001b[39;49m\u001b[38;5;124;43m\"\u001b[39;49m\u001b[43m)\u001b[49m\u001b[38;5;241m.\u001b[39mread()\n\u001b[1;32m    127\u001b[0m     oie_few_shot_prompt_template_str \u001b[38;5;241m=\u001b[39m \u001b[38;5;28mopen\u001b[39m(\u001b[38;5;124m\"\u001b[39m\u001b[38;5;124m./prompt_templates/extract_template_few_shot.txt\u001b[39m\u001b[38;5;124m\"\u001b[39m)\u001b[38;5;241m.\u001b[39mread()\n\u001b[1;32m    129\u001b[0m     \u001b[38;5;66;03m# if refine:\u001b[39;00m\n\u001b[1;32m    130\u001b[0m     \u001b[38;5;66;03m#     # Perform extraction with refinement hint: entity hints and relation hints\u001b[39;00m\n",
      "\u001b[0;31mFileNotFoundError\u001b[0m: [Errno 2] No such file or directory: './prompt_templates/few_shot_examples.txt'"
     ]
    }
   ],
   "source": [
    "edc.extract_kg(['Bowen is a student at National University of Singapore'])"
   ]
  },
  {
   "cell_type": "code",
   "execution_count": 2,
   "metadata": {},
   "outputs": [
    {
     "data": {
      "application/vnd.jupyter.widget-view+json": {
       "model_id": "5a92303adc1b404d9a1127f00cf2b059",
       "version_major": 2,
       "version_minor": 0
      },
      "text/plain": [
       "Loading checkpoint shards:   0%|          | 0/3 [00:00<?, ?it/s]"
      ]
     },
     "metadata": {},
     "output_type": "display_data"
    }
   ],
   "source": [
    "mistral7b_model, mistral7b_tokenizer = llm_utils.load_model('mistral7b')"
   ]
  },
  {
   "cell_type": "code",
   "execution_count": 11,
   "metadata": {},
   "outputs": [
    {
     "data": {
      "application/vnd.jupyter.widget-view+json": {
       "model_id": "42b792fb34184f8b81ec11c778d0fdf5",
       "version_major": 2,
       "version_minor": 0
      },
      "text/plain": [
       "Loading checkpoint shards:   0%|          | 0/2 [00:00<?, ?it/s]"
      ]
     },
     "metadata": {},
     "output_type": "display_data"
    },
    {
     "name": "stderr",
     "output_type": "stream",
     "text": [
      "huggingface/tokenizers: The current process just got forked, after parallelism has already been used. Disabling parallelism to avoid deadlocks...\n",
      "To disable this warning, you can either:\n",
      "\t- Avoid using `tokenizers` before the fork if possible\n",
      "\t- Explicitly set the environment variable TOKENIZERS_PARALLELISM=(true | false)\n"
     ]
    }
   ],
   "source": [
    "embedding_model = MistralForSequenceEmbedding.from_pretrained(\"intfloat/e5-mistral-7b-instruct\", device_map=\"auto\")\n",
    "embedding_tokenizer = AutoTokenizer.from_pretrained(\"intfloat/e5-mistral-7b-instruct\")"
   ]
  },
  {
   "cell_type": "code",
   "execution_count": 3,
   "metadata": {},
   "outputs": [],
   "source": [
    "extractor = Extractor(mistral7b_model, mistral7b_tokenizer)"
   ]
  },
  {
   "cell_type": "code",
   "execution_count": 4,
   "metadata": {},
   "outputs": [],
   "source": [
    "input_text = \"Bowen is a student at National University of Singapore.\"\n",
    "oie_few_shot_examples_str = open('./edc/prompt_templates/few_shot_examples.txt').read()\n",
    "oie_few_shot_prompt_template_str = open('./edc/prompt_templates/extract_template_few_shot.txt').read()"
   ]
  },
  {
   "cell_type": "code",
   "execution_count": 5,
   "metadata": {},
   "outputs": [
    {
     "name": "stdout",
     "output_type": "stream",
     "text": [
      "[{'role': 'user', 'content': 'Your task is to transform the given text into a semantic graph in the form of a list of triples. The triples must be in the form of [Entity1, Relationship, Entity2]. In your answer, please strictly only include the triples and do not include any explanation or apologies.\\n\\nHere are some examples:\\nExample 1:\\nText: Spodnje Hoče () is a settlement in and the administrative centre of the Municipality of Hoče–Slivnica in northeastern Slovenia.\\nTriplets: [[\\'Spodnje Hoče\\', \\'located in the administrative territorial entity\\', \\'Municipality of Hoče–Slivnica\\'], [\\'Municipality of Hoče–Slivnica\\', \\'contains settlement\\', \\'Spodnje Hoče\\'], [\\'Municipality of Hoče–Slivnica\\', \\'country\\', \\'Slovenia\\'], [\\'Slovenia\\', \\'contains administrative territorial entity\\', \\'Municipality of Hoče–Slivnica\\']]\\n\\nExample 2:\\nText: Herbert Blankenhorn (15 December 1904 in Mülhausen\\xa0– 10 August 1991 in Badenweiler) was a German diplomat.\\nTriplets: [[\\'Herbert Blankenhorn\\', \\'date of birth\\', \\'15 December 1904\\'], [\\'Herbert Blankenhorn\\', \\'place of birth\\', \\'Mülhausen\\'], [\\'Herbert Blankenhorn\\', \\'date of death\\', \\'10 August 1991\\'], [\\'Herbert Blankenhorn\\', \\'place of death\\', \\'Badenweiler\\']]\\n\\nExample 3:\\nText: Operation Dragon Strike was a NATO counter-insurgent mission in Kandahar province, Afghanistan, against Taliban forces, which started on September 15, 2010.\\nTriplets: [[\\'Operation Dragon Strike\\', \\'location\\', \\'Kandahar province\\'], [\\'Operation Dragon Strike\\', \\'start time\\', \\'September 15, 2010\\'], [\\'Kandahar province\\', \\'country\\', \\'Afghanistan\\'], [\\'Afghanistan\\', \\'contains administrative territorial entity\\', \\'Kandahar province\\']]\\n\\nExample 4:\\nText: Saleem Safi (Urdu, ) is a Pakistani journalist, columnist, defence analyst and current affairs TV talk show anchorperson.\\nTriplets: [[\\'Saleem Safi\\', \\'country of citizenship\\', \\'Pakistan\\'], [\\'Urdu\\', \\'country\\', \\'Pakistan\\'], [\\'Pakistan\\', \\'language used\\', \\'Urdu\\'], [\\'columnist\\', \\'subclass of\\', \\'journalist\\']]\\n\\nExample 5:\\nText: Los Trancos Creek (meaning \"barriers\" or \"cattle guards\" from the Spanish \"Las Trancas\") is a creek that flows northerly from Monte Bello Ridge on the northeast slope of the Santa Cruz Mountains to its confluence with San Francisquito Creek at Stanford University in California, United States.\\nTriplets: [[\\'Los Trancos Creek\\', \\'mouth of the watercourse\\', \\'San Francisquito Creek\\'], [\\'Monte Bello Ridge\\', \\'mountain range\\', \\'Santa Cruz Mountains\\'], [\\'Monte Bello Ridge\\', \\'located in the administrative territorial entity\\', \\'California\\'], [\\'San Francisquito Creek\\', \\'tributary\\', \\'Los Trancos Creek\\']]\\n\\nExample 6:\\nText: Peter Sainthill (8 July 1593 – 12 August 1648) of Bradninch in Devon, England, was twice elected a Member of Parliament for Tiverton in Devon, in the Short Parliament 1640 and in the Long Parliament in November 1640.\\nTriplets: [[\\'Peter Sainthill\\', \\'date of birth\\', \\'8 July 1593\\'], [\\'Peter Sainthill\\', \\'date of death\\', \\'12 August 1648\\'], [\\'Peter Sainthill\\', \\'member of\\', \\'Short Parliament\\'], [\\'Long Parliament\\', \\'inception\\', \\'November 1640\\']]\\n\\nNow please extract triplets from the following text.\\nText: Bowen is a student at National University of Singapore.'}]\n",
      "['<s>[INST] Your task is to transform the given text into a semantic graph in the form of a list of triples. The triples must be in the form of [Entity1, Relationship, Entity2]. In your answer, please strictly only include the triples and do not include any explanation or apologies.\\n\\nHere are some examples:\\nExample 1:\\nText: Spodnje Hoče () is a settlement in and the administrative centre of the Municipality of Hoče–Slivnica in northeastern Slovenia.\\nTriplets: [[\\'Spodnje Hoče\\', \\'located in the administrative territorial entity\\', \\'Municipality of Hoče–Slivnica\\'], [\\'Municipality of Hoče–Slivnica\\', \\'contains settlement\\', \\'Spodnje Hoče\\'], [\\'Municipality of Hoče–Slivnica\\', \\'country\\', \\'Slovenia\\'], [\\'Slovenia\\', \\'contains administrative territorial entity\\', \\'Municipality of Hoče–Slivnica\\']]\\n\\nExample 2:\\nText: Herbert Blankenhorn (15 December 1904 in Mülhausen\\xa0– 10 August 1991 in Badenweiler) was a German diplomat.\\nTriplets: [[\\'Herbert Blankenhorn\\', \\'date of birth\\', \\'15 December 1904\\'], [\\'Herbert Blankenhorn\\', \\'place of birth\\', \\'Mülhausen\\'], [\\'Herbert Blankenhorn\\', \\'date of death\\', \\'10 August 1991\\'], [\\'Herbert Blankenhorn\\', \\'place of death\\', \\'Badenweiler\\']]\\n\\nExample 3:\\nText: Operation Dragon Strike was a NATO counter-insurgent mission in Kandahar province, Afghanistan, against Taliban forces, which started on September 15, 2010.\\nTriplets: [[\\'Operation Dragon Strike\\', \\'location\\', \\'Kandahar province\\'], [\\'Operation Dragon Strike\\', \\'start time\\', \\'September 15, 2010\\'], [\\'Kandahar province\\', \\'country\\', \\'Afghanistan\\'], [\\'Afghanistan\\', \\'contains administrative territorial entity\\', \\'Kandahar province\\']]\\n\\nExample 4:\\nText: Saleem Safi (Urdu, ) is a Pakistani journalist, columnist, defence analyst and current affairs TV talk show anchorperson.\\nTriplets: [[\\'Saleem Safi\\', \\'country of citizenship\\', \\'Pakistan\\'], [\\'Urdu\\', \\'country\\', \\'Pakistan\\'], [\\'Pakistan\\', \\'language used\\', \\'Urdu\\'], [\\'columnist\\', \\'subclass of\\', \\'journalist\\']]\\n\\nExample 5:\\nText: Los Trancos Creek (meaning \"barriers\" or \"cattle guards\" from the Spanish \"Las Trancas\") is a creek that flows northerly from Monte Bello Ridge on the northeast slope of the Santa Cruz Mountains to its confluence with San Francisquito Creek at Stanford University in California, United States.\\nTriplets: [[\\'Los Trancos Creek\\', \\'mouth of the watercourse\\', \\'San Francisquito Creek\\'], [\\'Monte Bello Ridge\\', \\'mountain range\\', \\'Santa Cruz Mountains\\'], [\\'Monte Bello Ridge\\', \\'located in the administrative territorial entity\\', \\'California\\'], [\\'San Francisquito Creek\\', \\'tributary\\', \\'Los Trancos Creek\\']]\\n\\nExample 6:\\nText: Peter Sainthill (8 July 1593 – 12 August 1648) of Bradninch in Devon, England, was twice elected a Member of Parliament for Tiverton in Devon, in the Short Parliament 1640 and in the Long Parliament in November 1640.\\nTriplets: [[\\'Peter Sainthill\\', \\'date of birth\\', \\'8 July 1593\\'], [\\'Peter Sainthill\\', \\'date of death\\', \\'12 August 1648\\'], [\\'Peter Sainthill\\', \\'member of\\', \\'Short Parliament\\'], [\\'Long Parliament\\', \\'inception\\', \\'November 1640\\']]\\n\\nNow please extract triplets from the following text.\\nText: Bowen is a student at National University of Singapore. [/INST]Triplets: ']\n"
     ]
    }
   ],
   "source": [
    "oie_triplets = extractor.extract(input_text, oie_few_shot_examples_str, oie_few_shot_prompt_template_str)"
   ]
  },
  {
   "cell_type": "code",
   "execution_count": 6,
   "metadata": {},
   "outputs": [
    {
     "data": {
      "text/plain": [
       "[['Bowen', 'student of', 'National University of Singapore']]"
      ]
     },
     "execution_count": 6,
     "metadata": {},
     "output_type": "execute_result"
    }
   ],
   "source": [
    "oie_triplets"
   ]
  },
  {
   "cell_type": "code",
   "execution_count": 7,
   "metadata": {},
   "outputs": [],
   "source": [
    "schema_definition_few_shot_prompt_template_str = open('./edc/prompt_templates/schema_definition_template.txt').read()"
   ]
  },
  {
   "cell_type": "code",
   "execution_count": 8,
   "metadata": {},
   "outputs": [],
   "source": [
    "schema_definer = SchemaDefiner(mistral7b_model, mistral7b_tokenizer)"
   ]
  },
  {
   "cell_type": "code",
   "execution_count": 16,
   "metadata": {},
   "outputs": [
    {
     "name": "stdout",
     "output_type": "stream",
     "text": [
      "[{'role': 'user', 'content': \"You will be given a piece of text and a list of relational triples in the format of [Subject, Relation, Object] extracted from the text. For each relation present in the triples, your task is to write a description to express the meaning of the relation.\\n\\nHere are some examples:\\n\\nExample 1:\\nText: Romany Love is a 1931 British musical film directed by Fred Paul and starring Esmond Knight, Florence McHugh and Roy Travers.\\nTriples: [['Romany Love', 'publication date', '1931'], ['Romany Love', 'genre', 'musical film'], ['Romany Love', 'director', 'Fred Paul'], ['Romany Love', 'cast member', 'Esmond Knight']]\\nRelations: ['publication date', 'genre', 'director', 'cast member']\\nAnswer: \\npublication date: The subject entity was published or released on the date specified by the object entity.\\ngenre: The subject entity belongs to the genre specified by the object entity.\\ndirector: The subject entity was directed by the person or entity specified by the object entity.\\ncast member: The subject entity includes the person specified by the object entity as a member of its cast.\\n\\nExample 2:\\nText: Monopoly Star Wars is the 1997 Monopoly franchise Star Wars video game based on the board game and set in the Star Wars fictional universe.\\nTriples: [['Monopoly Star Wars', 'publication date', '1997'], ['Monopoly Star Wars', 'genre', 'Monopoly'], ['Monopoly Star Wars', 'media franchise', 'Star Wars'], ['Monopoly Star Wars', 'instance of', 'video game']]\\nRelations: ['publication date', 'genre', 'media franchise', 'instance of']\\nAnswer:\\npublication date: The subject entity was published or released on the date specified by the object entity.\\ngenre: The subject entity belongs to the genre specified by the object entity.\\nmedia franchise: The subject entity is a part of the media franchise specified by the object entity.\\ninstance of: The subject entity is an instance or example of the type specified by the object entity.\\n\\nExample 3:\\nText: Josef Schäffer (born July 2, 1891 in Moravia) was an Austrian track and field athlete who competed in the 1912 Summer Olympics.\\nTriples: [['Josef Schäffer', 'date of birth', 'July 2, 1891'], ['Josef Schäffer', 'place of birth', 'Moravia'], ['Josef Schäffer', 'participant in', '1912 Summer Olympics'], ['1912 Summer Olympics', 'point in time', '1912']]\\nRelations: ['date of birth', 'place of birth', 'participant in', 'point in time']\\nAnswer:\\ndate of birth: The subject entity was born on the date specified by the object entity.\\nplace of birth: The subject entity was born in the location specified by the object entity.\\nparticipant in: The subject entity took part in the event specified by the object entity.\\npoint in time: The object entity specifies a specific point in time the subject entity took place in.\\n\\nExample 4:\\nText: Sam Cross (born 26 August 1992) is a Welsh rugby union player who plays for Wales and club rugby for the Ospreys as a flanker.\\nTriples: [['Sam Cross', 'date of birth', '26 August 1992'], ['Sam Cross', 'position played on team / speciality', 'flanker'], ['Ospreys', 'sport', 'rugby union'], ['flanker', 'part of', 'rugby union']]\\nRelations: ['date of birth', 'position played on team / speciality', 'sport', 'part of']\\nAnswer:\\ndate of birth: The subject entity was born on the date specified by the object entity.\\nposition played on team / speciality: The subject entity plays the specified position or has the specified speciality on the team.\\nsport: The subject entity is associated with the sport specified by the object entity.\\npart of: The subject entity is a part of or belongs to the object entity.\\n\\nExample 5:\\nText: Ondel-ondel is a large puppet figure featured in Betawi folk performance of Jakarta, Indonesia.\\nTriples: [['Betawi', 'location', 'Jakarta'], ['Jakarta', 'country', 'Indonesia'], ['Indonesia', 'ethnic group', 'Betawi'], ['Indonesia', 'contains administrative territorial entity', 'Jakarta']]\\nRelations: ['location', 'country', 'ethnic group', 'contains administrative territorial entity']\\nAnswer:\\nlocation: The subject entity is located in the place specified by the object entity.\\ncountry: The subject entity is located in the country specified by the object entity.\\nethnic group: The subject entity contains the ethnic group specified by the object entity.\\ncontains administrative territorial entity: The subject entity contains the administrative territorial entity specified by the object entity.\\n\\nExample 6:\\nText: George M. Coombs (November 27, 1851 – March 27, 1909) was an American architect from Maine.\\nTriples: [['George M. Coombs', 'date of birth', 'November 27, 1851'], ['George M. Coombs', 'date of death', 'March 27, 1909'], ['American', 'contains administrative territorial entity', 'Maine'], ['Maine', 'country', 'American']]\\nRelations: ['date of birth', 'date of death', 'contains administrative territorial entity', 'country']\\nAnswer:\\ndate of birth: The subject entity was born on the date specified by the object entity.\\ndate of death: The subject entity died on the date specified by the object entity.\\ncontains administrative territorial entity: The subject entity contains or is a part of the administrative territorial entity specified by the object entity.\\ncountry: The subject entity is located in the country specified by the object entity.\\n\\nNow please extract relation descriptions given the following text and triples. Note that the description needs to be general and can be used to describe relations between other entities as well. Pay attention to the order of subject and object entities.\\nText: Bowen is a student at National University of Singapore.\\nTriples: [['Bowen', 'student of', 'National University of Singapore']]\\nRelations: {'student of'}\"}]\n",
      "[\"<s>[INST] You will be given a piece of text and a list of relational triples in the format of [Subject, Relation, Object] extracted from the text. For each relation present in the triples, your task is to write a description to express the meaning of the relation.\\n\\nHere are some examples:\\n\\nExample 1:\\nText: Romany Love is a 1931 British musical film directed by Fred Paul and starring Esmond Knight, Florence McHugh and Roy Travers.\\nTriples: [['Romany Love', 'publication date', '1931'], ['Romany Love', 'genre', 'musical film'], ['Romany Love', 'director', 'Fred Paul'], ['Romany Love', 'cast member', 'Esmond Knight']]\\nRelations: ['publication date', 'genre', 'director', 'cast member']\\nAnswer: \\npublication date: The subject entity was published or released on the date specified by the object entity.\\ngenre: The subject entity belongs to the genre specified by the object entity.\\ndirector: The subject entity was directed by the person or entity specified by the object entity.\\ncast member: The subject entity includes the person specified by the object entity as a member of its cast.\\n\\nExample 2:\\nText: Monopoly Star Wars is the 1997 Monopoly franchise Star Wars video game based on the board game and set in the Star Wars fictional universe.\\nTriples: [['Monopoly Star Wars', 'publication date', '1997'], ['Monopoly Star Wars', 'genre', 'Monopoly'], ['Monopoly Star Wars', 'media franchise', 'Star Wars'], ['Monopoly Star Wars', 'instance of', 'video game']]\\nRelations: ['publication date', 'genre', 'media franchise', 'instance of']\\nAnswer:\\npublication date: The subject entity was published or released on the date specified by the object entity.\\ngenre: The subject entity belongs to the genre specified by the object entity.\\nmedia franchise: The subject entity is a part of the media franchise specified by the object entity.\\ninstance of: The subject entity is an instance or example of the type specified by the object entity.\\n\\nExample 3:\\nText: Josef Schäffer (born July 2, 1891 in Moravia) was an Austrian track and field athlete who competed in the 1912 Summer Olympics.\\nTriples: [['Josef Schäffer', 'date of birth', 'July 2, 1891'], ['Josef Schäffer', 'place of birth', 'Moravia'], ['Josef Schäffer', 'participant in', '1912 Summer Olympics'], ['1912 Summer Olympics', 'point in time', '1912']]\\nRelations: ['date of birth', 'place of birth', 'participant in', 'point in time']\\nAnswer:\\ndate of birth: The subject entity was born on the date specified by the object entity.\\nplace of birth: The subject entity was born in the location specified by the object entity.\\nparticipant in: The subject entity took part in the event specified by the object entity.\\npoint in time: The object entity specifies a specific point in time the subject entity took place in.\\n\\nExample 4:\\nText: Sam Cross (born 26 August 1992) is a Welsh rugby union player who plays for Wales and club rugby for the Ospreys as a flanker.\\nTriples: [['Sam Cross', 'date of birth', '26 August 1992'], ['Sam Cross', 'position played on team / speciality', 'flanker'], ['Ospreys', 'sport', 'rugby union'], ['flanker', 'part of', 'rugby union']]\\nRelations: ['date of birth', 'position played on team / speciality', 'sport', 'part of']\\nAnswer:\\ndate of birth: The subject entity was born on the date specified by the object entity.\\nposition played on team / speciality: The subject entity plays the specified position or has the specified speciality on the team.\\nsport: The subject entity is associated with the sport specified by the object entity.\\npart of: The subject entity is a part of or belongs to the object entity.\\n\\nExample 5:\\nText: Ondel-ondel is a large puppet figure featured in Betawi folk performance of Jakarta, Indonesia.\\nTriples: [['Betawi', 'location', 'Jakarta'], ['Jakarta', 'country', 'Indonesia'], ['Indonesia', 'ethnic group', 'Betawi'], ['Indonesia', 'contains administrative territorial entity', 'Jakarta']]\\nRelations: ['location', 'country', 'ethnic group', 'contains administrative territorial entity']\\nAnswer:\\nlocation: The subject entity is located in the place specified by the object entity.\\ncountry: The subject entity is located in the country specified by the object entity.\\nethnic group: The subject entity contains the ethnic group specified by the object entity.\\ncontains administrative territorial entity: The subject entity contains the administrative territorial entity specified by the object entity.\\n\\nExample 6:\\nText: George M. Coombs (November 27, 1851 – March 27, 1909) was an American architect from Maine.\\nTriples: [['George M. Coombs', 'date of birth', 'November 27, 1851'], ['George M. Coombs', 'date of death', 'March 27, 1909'], ['American', 'contains administrative territorial entity', 'Maine'], ['Maine', 'country', 'American']]\\nRelations: ['date of birth', 'date of death', 'contains administrative territorial entity', 'country']\\nAnswer:\\ndate of birth: The subject entity was born on the date specified by the object entity.\\ndate of death: The subject entity died on the date specified by the object entity.\\ncontains administrative territorial entity: The subject entity contains or is a part of the administrative territorial entity specified by the object entity.\\ncountry: The subject entity is located in the country specified by the object entity.\\n\\nNow please extract relation descriptions given the following text and triples. Note that the description needs to be general and can be used to describe relations between other entities as well. Pay attention to the order of subject and object entities.\\nText: Bowen is a student at National University of Singapore.\\nTriples: [['Bowen', 'student of', 'National University of Singapore']]\\nRelations: {'student of'} [/INST]Answer: \"]\n",
      "\n",
      "\n",
      "student of: The subject entity is a student of the institution or educational body specified by the object entity.</s>\n"
     ]
    }
   ],
   "source": [
    "open_schema_definition_dict = schema_definer.define_schema(input_text, oie_triplets, \"\", schema_definition_few_shot_prompt_template_str)"
   ]
  },
  {
   "cell_type": "code",
   "execution_count": 18,
   "metadata": {},
   "outputs": [],
   "source": [
    "target_schema = {'student': 'The subject entity studies at the institution or educational body specified by the object entity.', 'gender': 'The subject entity has the gender specified by the object entity.'}"
   ]
  },
  {
   "cell_type": "code",
   "execution_count": 33,
   "metadata": {},
   "outputs": [],
   "source": [
    "canonicalize_verify_prompt_template_str = open('./edc/prompt_templates/canonicalize_verify_template.txt').read()"
   ]
  },
  {
   "cell_type": "code",
   "execution_count": 36,
   "metadata": {},
   "outputs": [],
   "source": [
    "canonicalizer = SchemaCanonicalizer(target_schema, embedding_model, embedding_tokenizer, mistral7b_model, mistral7b_tokenizer)"
   ]
  },
  {
   "cell_type": "code",
   "execution_count": 37,
   "metadata": {},
   "outputs": [
    {
     "name": "stdout",
     "output_type": "stream",
     "text": [
      "[\"<s>[INST] Given the following text and a relational triplet extracted from it:\\n\\nText: Bowen is a student at National University of Singapore.\\nTriplet: ['Bowen', 'student of', 'National University of Singapore']\\n\\nThe relation 'student of' in the triplet is defined as '['The subject entity is a student of the institution or educational body specified by the object entity.</s>']' In this context, is there any relation appropriate to replace it? Please answer by providing only the letter of your choice.\\n\\nChoices:\\nA. 'student': The subject entity studies at the institution or educational body specified by the object entity.\\nB. 'gender': The subject entity has the gender specified by the object entity.\\nC. None of the above.\\n [/INST]Answer: \"]\n",
      "A. 'student': The subject entity is a student at the institution or educational body specified by the object entity.\n",
      "\n",
      "Explanation: The given triplet correctly represents the relationship between Bowen and National University of Singapore, where Bowen is a student of the university. However, the definition of the 'student of' relation provided in the choices is not exactly the same as the given definition. The choice A is the correct relation that matches the given definition.</s>\n"
     ]
    }
   ],
   "source": [
    "original = {'student of': ['The subject entity is a student of the institution or educational body specified by the object entity.']}\n",
    "canonicalizer.canonicalize(input_text, oie_triplets[0], open_schema_definition_dict, canonicalize_verify_prompt_template_str)"
   ]
  }
 ],
 "metadata": {
  "kernelspec": {
   "display_name": "edc",
   "language": "python",
   "name": "python3"
  },
  "language_info": {
   "codemirror_mode": {
    "name": "ipython",
    "version": 3
   },
   "file_extension": ".py",
   "mimetype": "text/x-python",
   "name": "python",
   "nbconvert_exporter": "python",
   "pygments_lexer": "ipython3",
   "version": "3.9.19"
  }
 },
 "nbformat": 4,
 "nbformat_minor": 2
}
