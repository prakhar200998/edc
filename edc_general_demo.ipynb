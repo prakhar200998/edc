{
 "cells": [
  {
   "cell_type": "code",
   "execution_count": 1,
   "metadata": {},
   "outputs": [],
   "source": [
    "# Demo on the WebNLG dataset\n",
    "%load_ext autoreload\n",
    "%autoreload 2\n",
    "from edc.edc_framework import EDC\n",
    "import edc.utils.llm_utils as llm_utils\n",
    "import os\n",
    "\n",
    "os.environ[\"CUDA_DEVICE_ORDER\"]=\"PCI_BUS_ID\"\n",
    "os.environ[\"CUDA_VISIBLE_DEVICES\"]=\"3,4,5,6\"\n",
    "os.environ[\"TOKENIZERS_PARALLELISM\"] = \"false\"\n",
    "os.environ['TRANSFORMERS_NO_ADVISORY_WARNINGS'] = 'true'"
   ]
  },
  {
   "cell_type": "code",
   "execution_count": 2,
   "metadata": {},
   "outputs": [
    {
     "name": "stdout",
     "output_type": "stream",
     "text": [
      "Models used: {'gpt-4', 'gpt-3.5-turbo'}\n",
      "Loading models...\n"
     ]
    },
    {
     "data": {
      "application/vnd.jupyter.widget-view+json": {
       "model_id": "8032515f515246f891791fa1f6df6634",
       "version_major": 2,
       "version_minor": 0
      },
      "text/plain": [
       "Loading checkpoint shards:   0%|          | 0/2 [00:00<?, ?it/s]"
      ]
     },
     "metadata": {},
     "output_type": "display_data"
    },
    {
     "name": "stdout",
     "output_type": "stream",
     "text": [
      "Embedding target schema...\n"
     ]
    },
    {
     "name": "stderr",
     "output_type": "stream",
     "text": [
      "0it [00:00, ?it/s]\n"
     ]
    }
   ],
   "source": [
    "edc_configuration = {\n",
    "    # OIE Settings\n",
    "    \"oie_llm\": \"gpt-3.5-turbo\",\n",
    "    \"oie_prompt_template_file_path\": \"./edc/prompt_templates/oie_template.txt\",\n",
    "    \"oie_few_shot_example_file_path\": \"./edc/few_shot_examples/webnlg/oie_webnlg_few_shot_examples.txt\",\n",
    "    # Schema Definition Settings\n",
    "    \"sd_llm\": \"gpt-3.5-turbo\",\n",
    "    \"sd_prompt_template_file_path\": \"./edc/prompt_templates/sd_template.txt\",\n",
    "    \"sd_few_shot_example_file_path\": \"./edc/few_shot_examples/webnlg/sd_webnlg_few_shot_examples.txt\",\n",
    "    # Schema Canonicalization Settings\n",
    "    \"sc_llm\": \"gpt-4\",\n",
    "    \"sc_prompt_template_file_path\": \"./edc/prompt_templates/sc_template.txt\",\n",
    "    # Refinement Settings\n",
    "    \"oie_refine_prompt_template_file_path\": \"./edc/prompt_templates/oie_r_template.txt\",\n",
    "    \"oie_refine_few_shot_example_file_path\": \"./edc/few_shot_examples/webnlg/oie_webnlg_few_shot_refine_examples.txt\",\n",
    "    \"ee_prompt_template_file_path\": \"./edc/prompt_templates/ee_template.txt\",\n",
    "    \"ee_few_shot_example_file_path\": \"./edc/few_shot_examples/webnlg/ee_webnlg_few_shot_examples.txt\",\n",
    "    \"em_prompt_template_file_path\": \"./edc/prompt_templates/em_template.txt\",\n",
    "    # Extraction settings\n",
    "    \"target_schema_path\": None,\n",
    "    \"enrich_schema\": True,\n",
    "    \"output_dir\": \"./output/demo\",\n",
    "}\n",
    "\n",
    "edc = EDC(**edc_configuration)"
   ]
  },
  {
   "cell_type": "code",
   "execution_count": 3,
   "metadata": {},
   "outputs": [],
   "source": [
    "connecting_entity_text = \"Meta is a technology company. The company owns Facebook and Instagram.\"\n",
    "\n",
    "entity_1_text = \"Facebook is a social media and social networking service. It was created in 2004. The creator of Facebook is Mark Zuckerberg.\"\n",
    "\n",
    "entity_2_text = \"Instagram is a photo and video sharing platform and social networking service. It was first created by Kevin Systrom and Mike Kriege and released in 2010.\""
   ]
  },
  {
   "cell_type": "code",
   "execution_count": 4,
   "metadata": {},
   "outputs": [],
   "source": [
    "# input_text_list = [hs_bio_text, dh_bio_text, sn_bio_text, ycc_bio_text]\n",
    "input_text_list = [connecting_entity_text, entity_1_text, entity_2_text]"
   ]
  },
  {
   "cell_type": "code",
   "execution_count": 5,
   "metadata": {},
   "outputs": [
    {
     "name": "stdout",
     "output_type": "stream",
     "text": [
      "EDC running...\n",
      "Running OIE...\n"
     ]
    },
    {
     "name": "stderr",
     "output_type": "stream",
     "text": [
      "  0%|          | 0/3 [00:00<?, ?it/s]"
     ]
    },
    {
     "name": "stdout",
     "output_type": "stream",
     "text": [
      "OIE: Meta is a technology company. The company owns Facebook and Instagram.\n",
      " -> [['Meta', 'type', 'technology_company'], ['Meta', 'owns', 'Facebook'], ['Meta', 'owns', 'Instagram']]\n",
      "\n"
     ]
    },
    {
     "name": "stderr",
     "output_type": "stream",
     "text": [
      " 33%|███▎      | 1/3 [00:04<00:08,  4.02s/it]"
     ]
    },
    {
     "name": "stdout",
     "output_type": "stream",
     "text": [
      "OIE: Facebook is a social media and social networking service. It was created in 2004. The creator of Facebook is Mark Zuckerberg.\n",
      " -> [['Facebook', 'type', 'social_media'], ['Facebook', 'type', 'social_networking_service'], ['Facebook', 'createdIn', '2004'], ['Facebook', 'creator', 'Mark_Zuckerberg']]\n",
      "\n"
     ]
    },
    {
     "name": "stderr",
     "output_type": "stream",
     "text": [
      " 67%|██████▋   | 2/3 [00:08<00:04,  4.01s/it]"
     ]
    },
    {
     "name": "stdout",
     "output_type": "stream",
     "text": [
      "OIE: Instagram is a photo and video sharing platform and social networking service. It was first created by Kevin Systrom and Mike Kriege and released in 2010.\n",
      " -> [['Instagram', 'isA', 'photo_and_video_sharing_platform'], ['Instagram', 'isA', 'social_networking_service'], ['Instagram', 'createdBy', 'Kevin_Systrom'], ['Instagram', 'createdBy', 'Mike_Kriege'], ['Instagram', 'releaseYear', '2010']]\n",
      "\n"
     ]
    },
    {
     "name": "stderr",
     "output_type": "stream",
     "text": [
      "100%|██████████| 3/3 [00:12<00:00,  4.11s/it]"
     ]
    },
    {
     "name": "stdout",
     "output_type": "stream",
     "text": [
      "Running Schema Definition...\n"
     ]
    },
    {
     "name": "stderr",
     "output_type": "stream",
     "text": [
      "\n",
      "  0%|          | 0/3 [00:00<?, ?it/s]"
     ]
    },
    {
     "name": "stdout",
     "output_type": "stream",
     "text": [
      "SD: Instagram is a photo and video sharing platform and social networking service. It was first created by Kevin Systrom and Mike Kriege and released in 2010., [['Meta', 'type', 'technology_company'], ['Meta', 'owns', 'Facebook'], ['Meta', 'owns', 'Instagram']]\n",
      " -> {'owns': 'The subject entity possesses or has ownership of the object entity.', 'type': 'The subject entity belongs to the category or type specified by the object entity.'}\n",
      "\n"
     ]
    },
    {
     "name": "stderr",
     "output_type": "stream",
     "text": [
      " 33%|███▎      | 1/3 [00:00<00:01,  1.16it/s]"
     ]
    },
    {
     "name": "stdout",
     "output_type": "stream",
     "text": [
      "SD: Instagram is a photo and video sharing platform and social networking service. It was first created by Kevin Systrom and Mike Kriege and released in 2010., [['Facebook', 'type', 'social_media'], ['Facebook', 'type', 'social_networking_service'], ['Facebook', 'createdIn', '2004'], ['Facebook', 'creator', 'Mark_Zuckerberg']]\n",
      " -> {'creator': 'The subject entity was created by the person specified by the object entity.', 'createdIn': 'The subject entity was created or established in the year specified by the object entity.', 'type': 'The subject entity belongs to the type or category specified by the object entity.'}\n",
      "\n"
     ]
    },
    {
     "name": "stderr",
     "output_type": "stream",
     "text": [
      " 67%|██████▋   | 2/3 [00:02<00:01,  1.03s/it]"
     ]
    },
    {
     "name": "stdout",
     "output_type": "stream",
     "text": [
      "SD: Instagram is a photo and video sharing platform and social networking service. It was first created by Kevin Systrom and Mike Kriege and released in 2010., [['Instagram', 'isA', 'photo_and_video_sharing_platform'], ['Instagram', 'isA', 'social_networking_service'], ['Instagram', 'createdBy', 'Kevin_Systrom'], ['Instagram', 'createdBy', 'Mike_Kriege'], ['Instagram', 'releaseYear', '2010']]\n",
      " -> {'createdBy': 'The subject entity was created by the person or entity specified by the object entity.', 'releaseYear': 'The subject entity was released or established in the year specified by the object entity.', 'isA': 'The subject entity belongs to the category or type specified by the object entity.'}\n",
      "\n"
     ]
    },
    {
     "name": "stderr",
     "output_type": "stream",
     "text": [
      "100%|██████████| 3/3 [00:03<00:00,  1.03s/it]"
     ]
    },
    {
     "name": "stdout",
     "output_type": "stream",
     "text": [
      "Running Schema Canonicalization...\n"
     ]
    },
    {
     "name": "stderr",
     "output_type": "stream",
     "text": [
      "\n",
      "  0%|          | 0/3 [00:00<?, ?it/s]"
     ]
    },
    {
     "name": "stdout",
     "output_type": "stream",
     "text": [
      "Schema Canonicalization: Meta is a technology company. The company owns Facebook and Instagram.\n",
      "['Meta', 'type', 'technology_company'] -> ['Meta', 'type', 'technology_company']\n",
      "['Meta', 'owns', 'Facebook'] -> ['Meta', 'owns', 'Facebook']\n",
      "['Meta', 'owns', 'Instagram'] -> ['Meta', 'owns', 'Instagram']\n"
     ]
    },
    {
     "name": "stderr",
     "output_type": "stream",
     "text": [
      " 33%|███▎      | 1/3 [00:04<00:09,  4.67s/it]"
     ]
    },
    {
     "name": "stdout",
     "output_type": "stream",
     "text": [
      "Schema Canonicalization: Facebook is a social media and social networking service. It was created in 2004. The creator of Facebook is Mark Zuckerberg.\n",
      "['Facebook', 'type', 'social_media'] -> ['Facebook', 'type', 'social_media']\n",
      "['Facebook', 'type', 'social_networking_service'] -> ['Facebook', 'type', 'social_networking_service']\n",
      "['Facebook', 'createdIn', '2004'] -> ['Facebook', 'createdIn', '2004']\n",
      "['Facebook', 'creator', 'Mark_Zuckerberg'] -> ['Facebook', 'creator', 'Mark_Zuckerberg']\n"
     ]
    },
    {
     "name": "stderr",
     "output_type": "stream",
     "text": [
      " 67%|██████▋   | 2/3 [00:09<00:04,  4.74s/it]"
     ]
    },
    {
     "name": "stdout",
     "output_type": "stream",
     "text": [
      "Schema Canonicalization: Instagram is a photo and video sharing platform and social networking service. It was first created by Kevin Systrom and Mike Kriege and released in 2010.\n",
      "['Instagram', 'isA', 'photo_and_video_sharing_platform'] -> ['Instagram', 'type', 'photo_and_video_sharing_platform']\n",
      "['Instagram', 'isA', 'social_networking_service'] -> ['Instagram', 'type', 'social_networking_service']\n",
      "['Instagram', 'createdBy', 'Kevin_Systrom'] -> ['Instagram', 'creator', 'Kevin_Systrom']\n",
      "['Instagram', 'createdBy', 'Mike_Kriege'] -> ['Instagram', 'creator', 'Mike_Kriege']\n",
      "['Instagram', 'releaseYear', '2010'] -> ['Instagram', 'createdIn', '2010']\n"
     ]
    },
    {
     "name": "stderr",
     "output_type": "stream",
     "text": [
      "100%|██████████| 3/3 [00:15<00:00,  5.19s/it]\n"
     ]
    }
   ],
   "source": [
    "extracted_kg_list = edc.extract_kg(input_text_list)"
   ]
  },
  {
   "cell_type": "code",
   "execution_count": null,
   "metadata": {},
   "outputs": [],
   "source": [
    "from typing import List\n",
    "def combine_graphs(graphs: List[List[List[str]]]):\n",
    "    all_triplets = []\n",
    "    for g in graphs:\n",
    "        for t in g:\n",
    "            all_triplets.append(t)\n",
    "    return all_triplets\n",
    "\n",
    "combined_oie_graph = combine_graphs(extracted_kg_list[0])\n",
    "combined_canonicalized_graph = combine_graphs(extracted_kg_list[1])"
   ]
  },
  {
   "cell_type": "code",
   "execution_count": null,
   "metadata": {},
   "outputs": [],
   "source": [
    "# import time\n",
    "# open_graph_file_path = \"./edc/utils/open_graph.txt\"\n",
    "# canon_graph_file_path = \"./edc/utils/canon_graph.txt\"\n",
    "# oie_file = open(open_graph_file_path, 'w')\n",
    "# canon_file = open(canon_graph_file_path, 'w')\n",
    "# for oie_graph in extracted_kg_list[0]:\n",
    "#     for triple in oie_graph:\n",
    "#         oie_file.write(str(triple) + \"\\n\")\n",
    "#     oie_file.flush()\n",
    "#     time.sleep(5)\n",
    "\n",
    "# for canon_graph in extracted_kg_list[1]:\n",
    "#     for triple in canon_graph:\n",
    "#         canon_file.write(str(triple) + \"\\n\")\n",
    "#     canon_file.flush()\n",
    "#     time.sleep(5)"
   ]
  },
  {
   "cell_type": "code",
   "execution_count": 6,
   "metadata": {},
   "outputs": [],
   "source": [
    "entity_3_text = \"Meta also owns WhatsApp, WhatsApp is an instant messaging service. It was founded by Brian Acton and Jan Koum in 2009.\""
   ]
  },
  {
   "cell_type": "code",
   "execution_count": 7,
   "metadata": {},
   "outputs": [
    {
     "name": "stdout",
     "output_type": "stream",
     "text": [
      "EDC running...\n",
      "Running OIE...\n"
     ]
    },
    {
     "name": "stderr",
     "output_type": "stream",
     "text": [
      "  0%|          | 0/1 [00:00<?, ?it/s]"
     ]
    },
    {
     "name": "stdout",
     "output_type": "stream",
     "text": [
      "OIE: Meta also owns WhatsApp, WhatsApp is an instant messaging service. It was founded by Brian Acton and Jan Koum in 2009.\n",
      " -> [['Meta', 'owns', 'WhatsApp'], ['WhatsApp', 'type', 'instant_messaging_service'], ['WhatsApp', 'foundedBy', 'Brian_Acton'], ['WhatsApp', 'foundedBy', 'Jan_Koum'], ['WhatsApp', 'foundedYear', '2009']]\n",
      "\n"
     ]
    },
    {
     "name": "stderr",
     "output_type": "stream",
     "text": [
      "100%|██████████| 1/1 [00:04<00:00,  4.50s/it]"
     ]
    },
    {
     "name": "stdout",
     "output_type": "stream",
     "text": [
      "Running Schema Definition...\n"
     ]
    },
    {
     "name": "stderr",
     "output_type": "stream",
     "text": [
      "\n",
      "  0%|          | 0/1 [00:00<?, ?it/s]"
     ]
    },
    {
     "name": "stdout",
     "output_type": "stream",
     "text": [
      "SD: Meta also owns WhatsApp, WhatsApp is an instant messaging service. It was founded by Brian Acton and Jan Koum in 2009., [['Meta', 'owns', 'WhatsApp'], ['WhatsApp', 'type', 'instant_messaging_service'], ['WhatsApp', 'foundedBy', 'Brian_Acton'], ['WhatsApp', 'foundedBy', 'Jan_Koum'], ['WhatsApp', 'foundedYear', '2009']]\n",
      " -> {'foundedBy': 'The subject entity was founded by the person or entity specified by the object entity.', 'foundedYear': 'The subject entity was founded in the year specified by the object entity.', 'owns': 'The subject entity possesses or has ownership of the object entity.', 'type': 'The subject entity belongs to the type or category specified by the object entity.'}\n",
      "\n"
     ]
    },
    {
     "name": "stderr",
     "output_type": "stream",
     "text": [
      "100%|██████████| 1/1 [00:01<00:00,  1.38s/it]"
     ]
    },
    {
     "name": "stdout",
     "output_type": "stream",
     "text": [
      "Running Schema Canonicalization...\n"
     ]
    },
    {
     "name": "stderr",
     "output_type": "stream",
     "text": [
      "\n",
      "  0%|          | 0/1 [00:00<?, ?it/s]"
     ]
    },
    {
     "name": "stdout",
     "output_type": "stream",
     "text": [
      "Schema Canonicalization: Meta also owns WhatsApp, WhatsApp is an instant messaging service. It was founded by Brian Acton and Jan Koum in 2009.\n",
      "['Meta', 'owns', 'WhatsApp'] -> ['Meta', 'owns', 'WhatsApp']\n",
      "['WhatsApp', 'type', 'instant_messaging_service'] -> ['WhatsApp', 'type', 'instant_messaging_service']\n",
      "['WhatsApp', 'foundedBy', 'Brian_Acton'] -> ['WhatsApp', 'creator', 'Brian_Acton']\n",
      "['WhatsApp', 'foundedBy', 'Jan_Koum'] -> ['WhatsApp', 'creator', 'Jan_Koum']\n",
      "['WhatsApp', 'foundedYear', '2009'] -> ['WhatsApp', 'createdIn', '2009']\n"
     ]
    },
    {
     "name": "stderr",
     "output_type": "stream",
     "text": [
      "100%|██████████| 1/1 [00:05<00:00,  5.71s/it]\n"
     ]
    }
   ],
   "source": [
    "entity3_kg_list = edc.extract_kg([entity_3_text])"
   ]
  },
  {
   "cell_type": "code",
   "execution_count": null,
   "metadata": {},
   "outputs": [],
   "source": [
    "# for triple in entity3_kg_list[0][0]:\n",
    "#     oie_file.write(str(triple) + \"\\n\")\n",
    "# oie_file.flush()\n",
    "# time.sleep(5)\n",
    "\n",
    "# for triple in entity3_kg_list[1][0]:\n",
    "#     canon_file.write(str(triple) + \"\\n\")\n",
    "# canon_file.flush()\n",
    "# time.sleep(5)"
   ]
  },
  {
   "cell_type": "code",
   "execution_count": null,
   "metadata": {},
   "outputs": [],
   "source": [
    "extra_oie_graph = combine_graphs(extracted_kg_list[0] + entity3_kg_list[0])\n",
    "extra_canonicalized_graph = combine_graphs(extracted_kg_list[1] + entity3_kg_list[1])"
   ]
  }
 ],
 "metadata": {
  "kernelspec": {
   "display_name": "Python 3 (ipykernel)",
   "language": "python",
   "name": "python3"
  },
  "language_info": {
   "codemirror_mode": {
    "name": "ipython",
    "version": 3
   },
   "file_extension": ".py",
   "mimetype": "text/x-python",
   "name": "python",
   "nbconvert_exporter": "python",
   "pygments_lexer": "ipython3",
   "version": "3.9.19"
  }
 },
 "nbformat": 4,
 "nbformat_minor": 4
}
